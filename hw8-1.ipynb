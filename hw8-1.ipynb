{
 "cells": [
  {
   "cell_type": "markdown",
   "id": "9667e26c",
   "metadata": {},
   "source": [
    "# HW8\n",
    "The _successive halving_ hyperparameter search technique is as follows:\n",
    "\n",
    "0. Specify a hyperparameter grid.\n",
    "1. Sample a set of hyperparameter combinations from this grid.\n",
    "2. Train models for $T$ epochs under each hyperparameter combination.\n",
    "3. Assess the validation losses for each combination.\n",
    "4. Stop training for the half of combinations which have the worst validation losses.\n",
    "5. Continue 2–4 until only one combination remains.\n",
    "\n",
    "Complete the code to implement this procedure for the `hidden_layer_sizes` of `sklearn`'s `MLPClassifier` as applied to the `iris` dataset. Print out the selected `hidden_layer_sizes` when you are done."
   ]
  },
  {
   "cell_type": "code",
   "execution_count": 51,
   "id": "0b04bdb7",
   "metadata": {},
   "outputs": [],
   "source": [
    "import numpy as np\n",
    "from sklearn import datasets\n",
    "from sklearn.neural_network import MLPClassifier\n",
    "import random\n",
    "from sklearn.metrics import log_loss\n",
    "from sklearn.model_selection import train_test_split\n",
    "\n",
    "# The training and validation sets.\n",
    "iris = datasets.load_iris()\n",
    "X = iris.data\n",
    "y = iris.target\n",
    "X_train, X_val, y_train, y_val = train_test_split(\n",
    "    X, y, test_size=0.3, shuffle=True, stratify = y)"
   ]
  },
  {
   "cell_type": "markdown",
   "id": "e086fbfe",
   "metadata": {},
   "source": [
    "### Steps 0–1"
   ]
  },
  {
   "cell_type": "code",
   "execution_count": 105,
   "id": "8efee13d",
   "metadata": {},
   "outputs": [
    {
     "name": "stdout",
     "output_type": "stream",
     "text": [
      "Search Space: [(1,), (1, 1), (1, 1, 1, 1), (1, 1, 1, 1, 1, 1, 1, 1), (2,), (2, 2), (2, 2, 2, 2), (2, 2, 2, 2, 2, 2, 2, 2), (4,), (4, 4), (4, 4, 4, 4), (4, 4, 4, 4, 4, 4, 4, 4), (8,), (8, 8), (8, 8, 8, 8), (8, 8, 8, 8, 8, 8, 8, 8)]\n",
      "The Random Sample: [(8, 8, 8, 8, 8, 8, 8, 8), (1,), (2, 2, 2, 2, 2, 2, 2, 2), (1, 1, 1, 1), (8, 8), (8, 8, 8, 8), (2, 2, 2, 2), (4, 4)]\n"
     ]
    }
   ],
   "source": [
    "# Step 0: Specify the grid.\n",
    "grid = [(2**k,)*2**l for k in np.arange(0, 4) for l in np.arange(0,4)]\n",
    "print(\"Search Space:\", grid)\n",
    "\n",
    "# Step 1: Sample.\n",
    "random.seed(553)\n",
    "hyper = random.sample(grid, 8)\n",
    "print(\"The Random Sample:\", hyper)"
   ]
  },
  {
   "cell_type": "markdown",
   "id": "70f5324f",
   "metadata": {},
   "source": [
    "### Steps 2―5\n",
    "\n",
    "To train an `MLPClassifier` for an epoch, use the [`partial_fit(X, y, classes=None)`](https://scikit-learn.org/stable/modules/generated/sklearn.neural_network.MLPClassifier.html#sklearn.neural_network.MLPClassifier.partial_fit) method. Make sure to read the description of the `classes` parameter in the documentation.\n",
    "\n",
    "The loss to evlauate on the validation set is `sklearn.metrics.log_loss`.\n",
    "\n",
    "Take $T=100$ as the number of epochs for step 2."
   ]
  },
  {
   "cell_type": "code",
   "execution_count": 144,
   "id": "0f1c18b9",
   "metadata": {},
   "outputs": [
    {
     "name": "stdout",
     "output_type": "stream",
     "text": [
      "(8, 8, 8, 8, 8, 8, 8, 8)\n"
     ]
    }
   ],
   "source": [
    "# Steps 2―5: \n",
    "T = 100 # Number of epochs for step 2.\n",
    "\n",
    "# YOUR CODE HERE:\n",
    "hyperparameters = []\n",
    "for i in range(len(hyper)):\n",
    "    clf = MLPClassifier(hidden_layer_sizes = (hyper[i]))\n",
    "    hyperparameters.append([0, clf, hyper[i]])\n",
    "while (len(hyperparameters) > 1):\n",
    "    for h in range(len(hyperparameters)):\n",
    "        clf = hyperparameters[h][1]       \n",
    "        for t in range(T):\n",
    "            clf.partial_fit(X_train, y_train, classes=np.unique(y))       \n",
    "        hyperparameters[h]=([log_loss(y_val, clf.predict_proba(X_val)), clf, hyperparameters[h][2]]) \n",
    "    hyperparameters.sort()\n",
    "    hyperparameters = hyperparameters[:len(hyperparameters)//2] \n",
    "print(hyperparameters[0][2])"
   ]
  }
 ],
 "metadata": {
  "kernelspec": {
   "display_name": "Python 3 (ipykernel)",
   "language": "python",
   "name": "python3"
  },
  "language_info": {
   "codemirror_mode": {
    "name": "ipython",
    "version": 3
   },
   "file_extension": ".py",
   "mimetype": "text/x-python",
   "name": "python",
   "nbconvert_exporter": "python",
   "pygments_lexer": "ipython3",
   "version": "3.9.7"
  }
 },
 "nbformat": 4,
 "nbformat_minor": 5
}
