{
 "cells": [
  {
   "cell_type": "markdown",
   "id": "a1aa7201",
   "metadata": {},
   "source": [
    "# Homework 5\n",
    "Run the following cell to load `heart_processed.csv`, which has log-predictors from the [Heart Failure Clinical Records Dataset](https://archive.ics.uci.edu/ml/datasets/Heart%2Bfailure%2Bclinical%2Brecords) for predicting `DEATH_EVENT`."
   ]
  },
  {
   "cell_type": "code",
   "execution_count": 24,
   "id": "9f648bc7",
   "metadata": {},
   "outputs": [],
   "source": [
    "import pandas as pd\n",
    "import numpy as np\n",
    "dataset = pd.read_csv(\"heart_processed.csv\")\n",
    "X = dataset.drop(\"DEATH_EVENT\", axis=1)\n",
    "y = dataset[\"DEATH_EVENT\"]\n",
    "X=X.iloc[:,1:]"
   ]
  },
  {
   "cell_type": "markdown",
   "id": "ca4be0c2",
   "metadata": {},
   "source": [
    "Write a naive Bayes classifier with priors inferred from the dataset, and class-conditional densities inferred using `scipy.stats.gaussian_kde` with default bandwidth. Print the accuracy on the dataset."
   ]
  },
  {
   "cell_type": "code",
   "execution_count": 25,
   "id": "f38d68e2",
   "metadata": {},
   "outputs": [
    {
     "data": {
      "text/plain": [
       "0.7892976588628763"
      ]
     },
     "execution_count": 25,
     "metadata": {},
     "output_type": "execute_result"
    }
   ],
   "source": [
    "import scipy.stats as stats\n",
    "indices_0 = y.index[y==0]\n",
    "indices_1 = y.index[y==1]\n",
    "X_0 = X.iloc[indices_0, :]\n",
    "X_1 = X.iloc[indices_1, :]\n",
    "prior_0 = X_0.shape[0] / X.shape[0]\n",
    "prior_1 = X_1.shape[0] / X.shape[0]\n",
    "\n",
    "lst0=[]\n",
    "for i in range(0,X_0.shape[1]):\n",
    "    kde0=stats.gaussian_kde(X_0.iloc[:,i])\n",
    "    res0=kde0.evaluate(X.iloc[:,i])\n",
    "    lst0.append(res0)\n",
    "lst1=[]\n",
    "for i in range(0,X_1.shape[1]):\n",
    "    kde1=stats.gaussian_kde(X_1.iloc[:,i])\n",
    "    res1=kde1.evaluate(X.iloc[:,i])\n",
    "    lst1.append(res1)\n",
    "\n",
    "def Naive(X):\n",
    "    likelihood_0=np.prod(lst0, axis=0)\n",
    "    likelihood_1=np.prod(lst1, axis=0)\n",
    "    posterior_0 = prior_0 * likelihood_0\n",
    "    posterior_1 = prior_1 * likelihood_1 \n",
    "    return (posterior_1 > posterior_0).astype(int)\n",
    "# Accuracy\n",
    "np.sum(Naive(X) == y) / len(y)"
   ]
  }
 ],
 "metadata": {
  "kernelspec": {
   "display_name": "Python 3 (ipykernel)",
   "language": "python",
   "name": "python3"
  },
  "language_info": {
   "codemirror_mode": {
    "name": "ipython",
    "version": 3
   },
   "file_extension": ".py",
   "mimetype": "text/x-python",
   "name": "python",
   "nbconvert_exporter": "python",
   "pygments_lexer": "ipython3",
   "version": "3.9.7"
  }
 },
 "nbformat": 4,
 "nbformat_minor": 5
}
